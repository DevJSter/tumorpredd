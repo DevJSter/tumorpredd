{
 "cells": [
  {
   "cell_type": "code",
   "execution_count": 1,
   "id": "56d755c8",
   "metadata": {},
   "outputs": [],
   "source": [
    "import cv2\n",
    "import os\n",
    "import tensorflow as tf\n",
    "from tensorflow import keras\n",
    "from PIL import Image\n",
    "import numpy as np\n",
    "from sklearn.model_selection import train_test_split\n",
    "from keras.utils import normalize\n",
    "from keras.models import Sequential\n",
    "from keras.layers import Conv2D, MaxPooling2D\n",
    "from keras.layers import Activation, Dropout, Flatten, Dense\n",
    "from keras.utils import to_categorical"
   ]
  },
  {
   "cell_type": "code",
   "execution_count": 6,
   "id": "77c08744",
   "metadata": {},
   "outputs": [],
   "source": [
    "image_directory='datasets/'\n",
    "\n",
    "no_tumor_images=os.listdir(image_directory+ 'no/')\n",
    "yes_tumor_images=os.listdir(image_directory+ 'yes/')\n",
    "dataset=[]\n",
    "label=[]\n",
    "\n",
    "INPUT_SIZE=64\n",
    "# print(no_tumor_images)\n",
    "\n",
    "# path='no0.jpg'\n",
    "\n",
    "# print(path.split('.')[1])\n",
    "\n",
    "for i , image_name in enumerate(no_tumor_images):\n",
    "    if(image_name.split('.')[1]=='jpg'):\n",
    "        image=cv2.imread(image_directory+'no/'+image_name)\n",
    "        image=Image.fromarray(image,'RGB')\n",
    "        image=image.resize((INPUT_SIZE,INPUT_SIZE))\n",
    "        dataset.append(np.array(image))\n",
    "        label.append(0)\n",
    "\n",
    "for i , image_name in enumerate(yes_tumor_images):\n",
    "    if(image_name.split('.')[1]=='jpg'):\n",
    "        image=cv2.imread(image_directory+'yes/'+image_name)\n",
    "        image=Image.fromarray(image, 'RGB')\n",
    "        image=image.resize((INPUT_SIZE,INPUT_SIZE))\n",
    "        dataset.append(np.array(image))\n",
    "        label.append(1)\n",
    "\n",
    "dataset=np.array(dataset)\n",
    "label=np.array(label)"
   ]
  },
  {
   "cell_type": "code",
   "execution_count": 7,
   "id": "cc0e51a2",
   "metadata": {},
   "outputs": [],
   "source": [
    "\n",
    "x_train, x_test, y_train, y_test=train_test_split(dataset, label, test_size=0.2, random_state=0)\n",
    "\n",
    "# Reshape = (n, image_width, image_height, n_channel)\n",
    "\n",
    "# print(x_train.shape)\n",
    "# print(y_train.shape)\n",
    "\n",
    "# print(x_test.shape)\n",
    "# print(y_test.shape)\n",
    "\n",
    "x_train=normalize(x_train, axis=1)\n",
    "x_test=normalize(x_test, axis=1)\n",
    "\n",
    "y_train=to_categorical(y_train , num_classes=2)\n",
    "y_test=to_categorical(y_test , num_classes=2)\n",
    "\n"
   ]
  },
  {
   "cell_type": "code",
   "execution_count": 8,
   "id": "6a76cc6f",
   "metadata": {},
   "outputs": [],
   "source": [
    "# Model Building\n",
    "# 64,64,3\n",
    "\n",
    "model=Sequential()\n",
    "\n",
    "model.add(Conv2D(32, (3,3), input_shape=(INPUT_SIZE, INPUT_SIZE, 3)))\n",
    "model.add(Activation('relu'))\n",
    "model.add(MaxPooling2D(pool_size=(2,2)))\n",
    "\n",
    "model.add(Conv2D(32, (3,3), kernel_initializer='he_uniform'))\n",
    "model.add(Activation('relu'))\n",
    "model.add(MaxPooling2D(pool_size=(2,2)))\n",
    "\n",
    "\n",
    "model.add(Conv2D(64, (3,3), kernel_initializer='he_uniform'))\n",
    "model.add(Activation('relu'))\n",
    "model.add(MaxPooling2D(pool_size=(2,2)))\n",
    "\n",
    "model.add(Flatten())\n",
    "model.add(Dense(64))\n",
    "model.add(Activation('relu'))\n",
    "model.add(Dropout(0.5))\n",
    "model.add(Dense(2))\n",
    "model.add(Activation('softmax'))"
   ]
  },
  {
   "cell_type": "code",
   "execution_count": 5,
   "id": "2a47e1a5",
   "metadata": {},
   "outputs": [
    {
     "name": "stdout",
     "output_type": "stream",
     "text": [
      "Epoch 1/10\n",
      "150/150 [==============================] - 8s 45ms/step - loss: 0.5664 - accuracy: 0.7146 - val_loss: 0.4836 - val_accuracy: 0.7533\n",
      "Epoch 2/10\n",
      "150/150 [==============================] - 11s 74ms/step - loss: 0.4133 - accuracy: 0.8221 - val_loss: 0.3679 - val_accuracy: 0.8267\n",
      "Epoch 3/10\n",
      "150/150 [==============================] - 8s 52ms/step - loss: 0.3172 - accuracy: 0.8658 - val_loss: 0.2796 - val_accuracy: 0.8850\n",
      "Epoch 4/10\n",
      "150/150 [==============================] - 13s 84ms/step - loss: 0.2597 - accuracy: 0.9008 - val_loss: 0.2230 - val_accuracy: 0.9067\n",
      "Epoch 5/10\n",
      "150/150 [==============================] - 15s 100ms/step - loss: 0.1854 - accuracy: 0.9296 - val_loss: 0.1820 - val_accuracy: 0.9400\n",
      "Epoch 6/10\n",
      "150/150 [==============================] - 15s 100ms/step - loss: 0.1264 - accuracy: 0.9554 - val_loss: 0.1466 - val_accuracy: 0.9583\n",
      "Epoch 7/10\n",
      "150/150 [==============================] - 12s 83ms/step - loss: 0.0907 - accuracy: 0.9729 - val_loss: 0.1254 - val_accuracy: 0.9517\n",
      "Epoch 8/10\n",
      "150/150 [==============================] - 8s 56ms/step - loss: 0.0629 - accuracy: 0.9804 - val_loss: 0.0997 - val_accuracy: 0.9617\n",
      "Epoch 9/10\n",
      "150/150 [==============================] - 9s 61ms/step - loss: 0.0436 - accuracy: 0.9862 - val_loss: 0.1102 - val_accuracy: 0.9667\n",
      "Epoch 10/10\n",
      "150/150 [==============================] - 9s 61ms/step - loss: 0.0239 - accuracy: 0.9929 - val_loss: 0.1840 - val_accuracy: 0.9450\n"
     ]
    }
   ],
   "source": [
    "# Binary CrossEntropy= 1, sigmoid\n",
    "# Categorical Cross Entryopy= 2 , softmax\n",
    "\n",
    "model.compile(loss='categorical_crossentropy',optimizer='adam', metrics=['accuracy'])\n",
    "\n",
    "\n",
    "model.fit(x_train, y_train, \n",
    "batch_size=16, \n",
    "verbose=1, epochs=10, \n",
    "validation_data=(x_test, y_test),\n",
    "shuffle=False)\n",
    "\n",
    "\n",
    "model.save('BrainTumor10EpochsCategorical.h5')"
   ]
  },
  {
   "cell_type": "code",
   "execution_count": 9,
   "id": "da71b55b",
   "metadata": {},
   "outputs": [],
   "source": [
    "import cv2\n",
    "from keras.models import load_model\n",
    "from PIL import Image\n",
    "import numpy as np"
   ]
  },
  {
   "cell_type": "code",
   "execution_count": 13,
   "id": "ad943ee4",
   "metadata": {},
   "outputs": [
    {
     "name": "stdout",
     "output_type": "stream",
     "text": [
      "1/1 [==============================] - 0s 123ms/step\n",
      "[[1. 0.]]\n"
     ]
    }
   ],
   "source": [
    "model=load_model('BrainTumor10EpochsCategorical.h5')\n",
    "\n",
    "image = cv2.imread('pred\\pred0.jpg')\n",
    "\n",
    "img=Image.fromarray(image)\n",
    "\n",
    "img=img.resize((64,64))\n",
    "\n",
    "img=np.array(img)\n",
    "\n",
    "input_img=np.expand_dims(img, axis=0)\n",
    "\n",
    "result=model.predict(input_img)\n",
    "print(result)"
   ]
  },
  {
   "cell_type": "code",
   "execution_count": null,
   "id": "ec782182",
   "metadata": {},
   "outputs": [],
   "source": []
  }
 ],
 "metadata": {
  "kernelspec": {
   "display_name": "Python 3 (ipykernel)",
   "language": "python",
   "name": "python3"
  },
  "language_info": {
   "codemirror_mode": {
    "name": "ipython",
    "version": 3
   },
   "file_extension": ".py",
   "mimetype": "text/x-python",
   "name": "python",
   "nbconvert_exporter": "python",
   "pygments_lexer": "ipython3",
   "version": "3.11.4"
  }
 },
 "nbformat": 4,
 "nbformat_minor": 5
}
